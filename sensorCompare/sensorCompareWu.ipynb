{
 "cells": [
  {
   "cell_type": "markdown",
   "metadata": {},
   "source": [
    "Generate correlation matrices of sensor data within the same timeframe\n",
    "\n",
    "AUTHOR: DARREN WU\n",
    "\n",
    "Date: 3/7/2022\n",
    "\n",
    "Revised from Carmen's code"
   ]
  },
  {
   "cell_type": "code",
   "execution_count": 103,
   "metadata": {},
   "outputs": [],
   "source": [
    "import pandas as pd\n",
    "import os\n",
    "import glob\n",
    "import matplotlib as plt"
   ]
  },
  {
   "cell_type": "markdown",
   "metadata": {},
   "source": [
    "Setup PATH (Directory where air sensor data is stored)\n",
    "\n"
   ]
  },
  {
   "cell_type": "code",
   "execution_count": 108,
   "metadata": {},
   "outputs": [
    {
     "data": {
      "text/html": [
       "<style type=\"text/css\">\n",
       "#T_dd0f8_row0_col0, #T_dd0f8_row0_col3, #T_dd0f8_row1_col1, #T_dd0f8_row2_col2, #T_dd0f8_row3_col0, #T_dd0f8_row3_col3 {\n",
       "  background-color: #b40426;\n",
       "  color: #f1f1f1;\n",
       "}\n",
       "#T_dd0f8_row0_col1, #T_dd0f8_row0_col2, #T_dd0f8_row2_col0, #T_dd0f8_row2_col3, #T_dd0f8_row3_col1, #T_dd0f8_row3_col2 {\n",
       "  background-color: #3b4cc0;\n",
       "  color: #f1f1f1;\n",
       "}\n",
       "#T_dd0f8_row1_col0, #T_dd0f8_row1_col3 {\n",
       "  background-color: #f7a889;\n",
       "  color: #000000;\n",
       "}\n",
       "#T_dd0f8_row1_col2 {\n",
       "  background-color: #f39778;\n",
       "  color: #000000;\n",
       "}\n",
       "#T_dd0f8_row2_col1 {\n",
       "  background-color: #6b8df0;\n",
       "  color: #f1f1f1;\n",
       "}\n",
       "</style>\n",
       "<table id=\"T_dd0f8\">\n",
       "  <thead>\n",
       "    <tr>\n",
       "      <th class=\"blank level0\" >&nbsp;</th>\n",
       "      <th id=\"T_dd0f8_level0_col0\" class=\"col_heading level0 col0\" >Duke 3</th>\n",
       "      <th id=\"T_dd0f8_level0_col1\" class=\"col_heading level0 col1\" >Duke 4</th>\n",
       "      <th id=\"T_dd0f8_level0_col2\" class=\"col_heading level0 col2\" >Duke 5</th>\n",
       "      <th id=\"T_dd0f8_level0_col3\" class=\"col_heading level0 col3\" >Duke 6</th>\n",
       "    </tr>\n",
       "  </thead>\n",
       "  <tbody>\n",
       "    <tr>\n",
       "      <th id=\"T_dd0f8_level0_row0\" class=\"row_heading level0 row0\" >Duke 3</th>\n",
       "      <td id=\"T_dd0f8_row0_col0\" class=\"data row0 col0\" >1.000000</td>\n",
       "      <td id=\"T_dd0f8_row0_col1\" class=\"data row0 col1\" >0.878517</td>\n",
       "      <td id=\"T_dd0f8_row0_col2\" class=\"data row0 col2\" >0.577310</td>\n",
       "      <td id=\"T_dd0f8_row0_col3\" class=\"data row0 col3\" >1.000000</td>\n",
       "    </tr>\n",
       "    <tr>\n",
       "      <th id=\"T_dd0f8_level0_row1\" class=\"row_heading level0 row1\" >Duke 4</th>\n",
       "      <td id=\"T_dd0f8_row1_col0\" class=\"data row1 col0\" >0.878517</td>\n",
       "      <td id=\"T_dd0f8_row1_col1\" class=\"data row1 col1\" >1.000000</td>\n",
       "      <td id=\"T_dd0f8_row1_col2\" class=\"data row1 col2\" >0.897240</td>\n",
       "      <td id=\"T_dd0f8_row1_col3\" class=\"data row1 col3\" >0.878517</td>\n",
       "    </tr>\n",
       "    <tr>\n",
       "      <th id=\"T_dd0f8_level0_row2\" class=\"row_heading level0 row2\" >Duke 5</th>\n",
       "      <td id=\"T_dd0f8_row2_col0\" class=\"data row2 col0\" >0.577310</td>\n",
       "      <td id=\"T_dd0f8_row2_col1\" class=\"data row2 col1\" >0.897240</td>\n",
       "      <td id=\"T_dd0f8_row2_col2\" class=\"data row2 col2\" >1.000000</td>\n",
       "      <td id=\"T_dd0f8_row2_col3\" class=\"data row2 col3\" >0.577310</td>\n",
       "    </tr>\n",
       "    <tr>\n",
       "      <th id=\"T_dd0f8_level0_row3\" class=\"row_heading level0 row3\" >Duke 6</th>\n",
       "      <td id=\"T_dd0f8_row3_col0\" class=\"data row3 col0\" >1.000000</td>\n",
       "      <td id=\"T_dd0f8_row3_col1\" class=\"data row3 col1\" >0.878517</td>\n",
       "      <td id=\"T_dd0f8_row3_col2\" class=\"data row3 col2\" >0.577310</td>\n",
       "      <td id=\"T_dd0f8_row3_col3\" class=\"data row3 col3\" >1.000000</td>\n",
       "    </tr>\n",
       "  </tbody>\n",
       "</table>\n"
      ],
      "text/plain": [
       "<pandas.io.formats.style.Styler at 0x1a5aee2b430>"
      ]
     },
     "execution_count": 108,
     "metadata": {},
     "output_type": "execute_result"
    }
   ],
   "source": [
    "PATH = r\"C:\\Users\\wudar\\Desktop\\Bergin_Research\\sensorCompare\"\n",
    "joined_files = os.path.join(PATH, \"*.csv\")\n",
    "joined_list = glob.glob(joined_files)\n",
    "new_df = pd.DataFrame(columns = ['Filler'])\n",
    "\n",
    "for file in joined_list:\n",
    "    df = pd.read_csv(file, skiprows = [1])\n",
    "    df['Timestamp'] = pd.to_datetime(df['Timestamp'], format = '%m/%d/%Y %H:%M')\n",
    "    \n",
    "    #extract filename w/o extension & directory list\n",
    "    col_name = (os.path.splitext(os.path.basename(file))[0]).split(' (')[0]\n",
    "    \n",
    "    df.set_index(df['Timestamp'], inplace = True)\n",
    "\n",
    "    #USE start_time and end_time as arguments to create time interval for measurement\n",
    "\n",
    "    start_time = '2022-02-26 00:00:00'\n",
    "    end_time = '2022-02-26 05:00:00'\n",
    "    \n",
    "    time_index = [df.loc[(df['Timestamp'] > start_time) & (df['Timestamp'] <= end_time)]['Timestamp'].dt.strftime('%m %d %H')]\n",
    "    #time_index = [df['Timestamp'].dt.strftime('%m %d %H')]\n",
    "    df_hour_means = df.groupby(time_index)['PM2.5'].mean()\n",
    "    new_df.insert(len(new_df.columns), col_name, df_hour_means)\n",
    "\n",
    "\n",
    "new_df.drop(new_df.columns[0], axis = 1, inplace = True)\n",
    "\n",
    "#Pearson r correlation analysis method, can change parameter of corr() if needed\n",
    "\n",
    "new_df[new_df.columns].corr(method = 'pearson').style.background_gradient(cmap='coolwarm')"
   ]
  },
  {
   "cell_type": "code",
   "execution_count": 105,
   "metadata": {},
   "outputs": [],
   "source": [
    "#new_df.to_csv('agg_Data.csv', index = False)"
   ]
  }
 ],
 "metadata": {
  "interpreter": {
   "hash": "b490c2e91849b12868896a59ec9db7ddf21b9ecb858b5314180dc88a7e26f828"
  },
  "kernelspec": {
   "display_name": "Python 3.9.7 ('base')",
   "language": "python",
   "name": "python3"
  },
  "language_info": {
   "codemirror_mode": {
    "name": "ipython",
    "version": 3
   },
   "file_extension": ".py",
   "mimetype": "text/x-python",
   "name": "python",
   "nbconvert_exporter": "python",
   "pygments_lexer": "ipython3",
   "version": "3.9.7"
  },
  "orig_nbformat": 4
 },
 "nbformat": 4,
 "nbformat_minor": 2
}
